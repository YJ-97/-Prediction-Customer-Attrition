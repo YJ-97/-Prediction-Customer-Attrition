{
 "cells": [
  {
   "cell_type": "code",
   "execution_count": 2,
   "metadata": {},
   "outputs": [],
   "source": [
    "from sklearn.preprocessing import LabelEncoder\n",
    "from sklearn.model_selection import train_test_split\n",
    "from sklearn.preprocessing import StandardScaler\n",
    "from tensorflow import keras\n",
    "from tensorflow.keras.models import Sequential\n",
    "from tensorflow.keras.layers import Dense, Dropout, BatchNormalization, Activation\n",
    "from tensorflow.keras.utils import to_categorical\n",
    "from tensorflow.keras.optimizers import Adam\n",
    "from imblearn.under_sampling import OneSidedSelection, TomekLinks, EditedNearestNeighbours\n",
    "\n",
    "import numpy as np\n",
    "import pandas as pd\n",
    "import matplotlib.pyplot as plt\n",
    "import seaborn as sns"
   ]
  },
  {
   "cell_type": "code",
   "execution_count": 3,
   "metadata": {},
   "outputs": [],
   "source": [
    "data = pd.read_csv('../datasets/BankChurners.csv')\n",
    "data = data.iloc[:,1:21]\n",
    "np.random.seed(42)"
   ]
  },
  {
   "cell_type": "code",
   "execution_count": 4,
   "metadata": {},
   "outputs": [],
   "source": [
    "import tensorflow as tf\n",
    "\n",
    "def metric_precision(y_true,y_pred): \n",
    " TP=tf.reduce_sum(y_true*tf.round(y_pred))\n",
    " TN=tf.reduce_sum((1-y_true)*(1-tf.round(y_pred)))\n",
    " FP=tf.reduce_sum((1-y_true)*tf.round(y_pred))\n",
    " FN=tf.reduce_sum(y_true*(1-tf.round(y_pred)))\n",
    " precision=TP/(TP+FP)\n",
    " return precision\n",
    "\n",
    "def metric_recall(y_true,y_pred): \n",
    " TP=tf.reduce_sum(y_true*tf.round(y_pred))\n",
    " TN=tf.reduce_sum((1-y_true)*(1-tf.round(y_pred)))\n",
    " FP=tf.reduce_sum((1-y_true)*tf.round(y_pred))\n",
    " FN=tf.reduce_sum(y_true*(1-tf.round(y_pred)))\n",
    " recall=TP/(TP+FN)\n",
    " return recall\n",
    "\n",
    "#F1-score    \n",
    "def metric_F1score(y_true,y_pred): \n",
    " TP=tf.reduce_sum(y_true*tf.round(y_pred))\n",
    " TN=tf.reduce_sum((1-y_true)*(1-tf.round(y_pred)))\n",
    " FP=tf.reduce_sum((1-y_true)*tf.round(y_pred))\n",
    " FN=tf.reduce_sum(y_true*(1-tf.round(y_pred)))\n",
    " precision=TP/(TP+FP)\n",
    " recall=TP/(TP+FN)\n",
    " F1score=2*precision*recall/(precision+recall)\n",
    " return F1score"
   ]
  },
  {
   "cell_type": "code",
   "execution_count": 6,
   "metadata": {},
   "outputs": [
    {
     "name": "stdout",
     "output_type": "stream",
     "text": [
      "category : [0 1]\n",
      "classes : ['Attrited Customer' 'Existing Customer']\n",
      "\n",
      "category : [0 1]\n",
      "classes : ['F' 'M']\n",
      "\n",
      "category : [0 1 2 3 4 5 6]\n",
      "classes : ['College' 'Doctorate' 'Graduate' 'High School' 'Post-Graduate'\n",
      " 'Uneducated' 'Unknown']\n",
      "\n",
      "category : [0 1 2 3]\n",
      "classes : ['Divorced' 'Married' 'Single' 'Unknown']\n",
      "\n",
      "category : [0 1 2 3 4 5]\n",
      "classes : ['$120K +' '$40K - $60K' '$60K - $80K' '$80K - $120K' 'Less than $40K'\n",
      " 'Unknown']\n",
      "\n",
      "category : [0 1 2 3]\n",
      "classes : ['Blue' 'Gold' 'Platinum' 'Silver']\n",
      "\n"
     ]
    }
   ],
   "source": [
    "object_columns = data.select_dtypes('object').columns\n",
    "for i in object_columns:\n",
    "    lb = LabelEncoder()\n",
    "    lb.fit(data[i])\n",
    "    data[i] = lb.transform(data[i])\n",
    "    print(f'category : {np.unique(data[i])}\\nclasses : {lb.classes_}\\n')\n",
    "\n",
    "input = data.iloc[:,1:]\n",
    "target = data.iloc[:,0]"
   ]
  },
  {
   "cell_type": "code",
   "execution_count": 7,
   "metadata": {},
   "outputs": [
    {
     "name": "stdout",
     "output_type": "stream",
     "text": [
      "(8101, 19) (2026, 19) (8101, 2) (2026, 2)\n"
     ]
    }
   ],
   "source": [
    "x_train, x_test, y_train, y_test = train_test_split(input, target, random_state=42, test_size=0.2)\n",
    "\n",
    "y_train= to_categorical(y_train)\n",
    "y_test= to_categorical(y_test)\n",
    "print(x_train.shape, x_test.shape, y_train.shape, y_test.shape)"
   ]
  },
  {
   "cell_type": "markdown",
   "metadata": {},
   "source": [
    "##### BatchNormalization https://eehoeskrap.tistory.com/430\n"
   ]
  },
  {
   "cell_type": "markdown",
   "metadata": {},
   "source": [
    "---------"
   ]
  },
  {
   "cell_type": "markdown",
   "metadata": {},
   "source": [
    "-----------"
   ]
  },
  {
   "cell_type": "code",
   "execution_count": 9,
   "metadata": {},
   "outputs": [
    {
     "name": "stdout",
     "output_type": "stream",
     "text": [
      "6512 1300\n",
      "(7812, 19) (2026, 19) (7812,) (2026,)\n"
     ]
    }
   ],
   "source": [
    "x_train, x_test, y_train, y_test = train_test_split(input, target, random_state=42, test_size=0.2)\n",
    "\n",
    "oss = OneSidedSelection(random_state=42)\n",
    "x_train, y_train = oss.fit_resample(x_train, y_train)\n",
    "print((y_train==1).sum(), (y_train==0).sum())\n",
    "# y_train= to_categorical(y_train)\n",
    "# y_test= to_categorical(y_test)\n",
    "\n",
    "print(x_train.shape, x_test.shape, y_train.shape, y_test.shape)"
   ]
  },
  {
   "cell_type": "code",
   "execution_count": 109,
   "metadata": {},
   "outputs": [
    {
     "name": "stdout",
     "output_type": "stream",
     "text": [
      "Model: \"sequential_24\"\n",
      "_________________________________________________________________\n",
      " Layer (type)                Output Shape              Param #   \n",
      "=================================================================\n",
      " batch_normalization_62 (Bat  (None, 8)                32        \n",
      " chNormalization)                                                \n",
      "                                                                 \n",
      " dense_92 (Dense)            (None, 128)               1152      \n",
      "                                                                 \n",
      " batch_normalization_63 (Bat  (None, 128)              512       \n",
      " chNormalization)                                                \n",
      "                                                                 \n",
      " dense_93 (Dense)            (None, 64)                8256      \n",
      "                                                                 \n",
      " dropout_29 (Dropout)        (None, 64)                0         \n",
      "                                                                 \n",
      " batch_normalization_64 (Bat  (None, 64)               256       \n",
      " chNormalization)                                                \n",
      "                                                                 \n",
      " dense_94 (Dense)            (None, 32)                2080      \n",
      "                                                                 \n",
      " dense_95 (Dense)            (None, 1)                 33        \n",
      "                                                                 \n",
      "=================================================================\n",
      "Total params: 12,321\n",
      "Trainable params: 11,921\n",
      "Non-trainable params: 400\n",
      "_________________________________________________________________\n"
     ]
    }
   ],
   "source": [
    "model = Sequential()\n",
    "\n",
    "model.add(keras.Input(shape=(8,)))\n",
    "\n",
    "model.add(BatchNormalization())\n",
    "model.add(Dense(128, activation='relu'))\n",
    "#model.add(Dropout(0.5))\n",
    "\n",
    "model.add(BatchNormalization())\n",
    "model.add(Dense(64, activation='relu'))\n",
    "model.add(Dropout(0.5))\n",
    "\n",
    "model.add(BatchNormalization())\n",
    "model.add(Dense(32, activation='relu'))\n",
    "#model.add(Dropout(0.5))\n",
    "\n",
    "model.add(Dense(1, activation='sigmoid'))\n",
    "\n",
    "model.compile(optimizer='adam',\n",
    "\t loss='binary_crossentropy',\n",
    "\t metrics=['accuracy',\n",
    "\t \t\tmetric_precision,\n",
    "\t \t\tmetric_recall,\n",
    "\t \t\tmetric_F1score,\n",
    "\t\t\t ])\n",
    "            \n",
    "model.summary()"
   ]
  },
  {
   "cell_type": "code",
   "execution_count": 110,
   "metadata": {},
   "outputs": [
    {
     "name": "stdout",
     "output_type": "stream",
     "text": [
      "\n",
      "Epoch 1: val_loss improved from inf to 0.26267, saving model to ./model\\01-0.262668.hdf5\n",
      "\n",
      "Epoch 2: val_loss improved from 0.26267 to 0.19459, saving model to ./model\\02-0.194589.hdf5\n",
      "\n",
      "Epoch 3: val_loss improved from 0.19459 to 0.17649, saving model to ./model\\03-0.176487.hdf5\n",
      "\n",
      "Epoch 4: val_loss improved from 0.17649 to 0.17254, saving model to ./model\\04-0.172537.hdf5\n",
      "\n",
      "Epoch 5: val_loss improved from 0.17254 to 0.17102, saving model to ./model\\05-0.171021.hdf5\n",
      "\n",
      "Epoch 6: val_loss improved from 0.17102 to 0.16839, saving model to ./model\\06-0.168389.hdf5\n",
      "\n",
      "Epoch 7: val_loss improved from 0.16839 to 0.16394, saving model to ./model\\07-0.163944.hdf5\n",
      "\n",
      "Epoch 8: val_loss improved from 0.16394 to 0.16089, saving model to ./model\\08-0.160890.hdf5\n",
      "\n",
      "Epoch 9: val_loss did not improve from 0.16089\n",
      "\n",
      "Epoch 10: val_loss improved from 0.16089 to 0.15210, saving model to ./model\\10-0.152099.hdf5\n",
      "\n",
      "Epoch 11: val_loss improved from 0.15210 to 0.15118, saving model to ./model\\11-0.151177.hdf5\n",
      "\n",
      "Epoch 12: val_loss improved from 0.15118 to 0.14922, saving model to ./model\\12-0.149224.hdf5\n",
      "\n",
      "Epoch 13: val_loss improved from 0.14922 to 0.14678, saving model to ./model\\13-0.146782.hdf5\n",
      "\n",
      "Epoch 14: val_loss improved from 0.14678 to 0.14474, saving model to ./model\\14-0.144736.hdf5\n",
      "\n",
      "Epoch 15: val_loss did not improve from 0.14474\n",
      "\n",
      "Epoch 16: val_loss improved from 0.14474 to 0.14348, saving model to ./model\\16-0.143481.hdf5\n",
      "\n",
      "Epoch 17: val_loss improved from 0.14348 to 0.14325, saving model to ./model\\17-0.143253.hdf5\n",
      "\n",
      "Epoch 18: val_loss improved from 0.14325 to 0.14221, saving model to ./model\\18-0.142212.hdf5\n",
      "\n",
      "Epoch 19: val_loss improved from 0.14221 to 0.13491, saving model to ./model\\19-0.134906.hdf5\n",
      "\n",
      "Epoch 20: val_loss did not improve from 0.13491\n",
      "\n",
      "Epoch 21: val_loss did not improve from 0.13491\n",
      "\n",
      "Epoch 22: val_loss improved from 0.13491 to 0.13475, saving model to ./model\\22-0.134755.hdf5\n",
      "\n",
      "Epoch 23: val_loss improved from 0.13475 to 0.13109, saving model to ./model\\23-0.131091.hdf5\n",
      "\n",
      "Epoch 24: val_loss did not improve from 0.13109\n",
      "\n",
      "Epoch 25: val_loss did not improve from 0.13109\n",
      "\n",
      "Epoch 26: val_loss did not improve from 0.13109\n",
      "\n",
      "Epoch 27: val_loss improved from 0.13109 to 0.12922, saving model to ./model\\27-0.129225.hdf5\n",
      "\n",
      "Epoch 28: val_loss improved from 0.12922 to 0.12838, saving model to ./model\\28-0.128375.hdf5\n",
      "\n",
      "Epoch 29: val_loss did not improve from 0.12838\n",
      "\n",
      "Epoch 30: val_loss did not improve from 0.12838\n",
      "\n",
      "Epoch 31: val_loss did not improve from 0.12838\n",
      "\n",
      "Epoch 32: val_loss did not improve from 0.12838\n",
      "\n",
      "Epoch 33: val_loss did not improve from 0.12838\n",
      "\n",
      "Epoch 34: val_loss did not improve from 0.12838\n",
      "\n",
      "Epoch 35: val_loss improved from 0.12838 to 0.12628, saving model to ./model\\35-0.126283.hdf5\n",
      "\n",
      "Epoch 36: val_loss improved from 0.12628 to 0.12430, saving model to ./model\\36-0.124298.hdf5\n",
      "\n",
      "Epoch 37: val_loss did not improve from 0.12430\n",
      "\n",
      "Epoch 38: val_loss did not improve from 0.12430\n",
      "\n",
      "Epoch 39: val_loss did not improve from 0.12430\n",
      "\n",
      "Epoch 40: val_loss did not improve from 0.12430\n",
      "\n",
      "Epoch 41: val_loss did not improve from 0.12430\n",
      "\n",
      "Epoch 42: val_loss did not improve from 0.12430\n",
      "\n",
      "Epoch 43: val_loss improved from 0.12430 to 0.12196, saving model to ./model\\43-0.121956.hdf5\n",
      "\n",
      "Epoch 44: val_loss improved from 0.12196 to 0.12147, saving model to ./model\\44-0.121471.hdf5\n",
      "\n",
      "Epoch 45: val_loss did not improve from 0.12147\n",
      "\n",
      "Epoch 46: val_loss did not improve from 0.12147\n",
      "\n",
      "Epoch 47: val_loss did not improve from 0.12147\n",
      "\n",
      "Epoch 48: val_loss did not improve from 0.12147\n",
      "\n",
      "Epoch 49: val_loss improved from 0.12147 to 0.12063, saving model to ./model\\49-0.120632.hdf5\n",
      "\n",
      "Epoch 50: val_loss improved from 0.12063 to 0.11724, saving model to ./model\\50-0.117242.hdf5\n",
      "\n",
      "Epoch 51: val_loss did not improve from 0.11724\n",
      "\n",
      "Epoch 52: val_loss did not improve from 0.11724\n",
      "\n",
      "Epoch 53: val_loss did not improve from 0.11724\n",
      "\n",
      "Epoch 54: val_loss did not improve from 0.11724\n",
      "\n",
      "Epoch 55: val_loss did not improve from 0.11724\n",
      "\n",
      "Epoch 56: val_loss did not improve from 0.11724\n",
      "\n",
      "Epoch 57: val_loss did not improve from 0.11724\n",
      "\n",
      "Epoch 58: val_loss did not improve from 0.11724\n",
      "\n",
      "Epoch 59: val_loss did not improve from 0.11724\n",
      "\n",
      "Epoch 60: val_loss did not improve from 0.11724\n",
      "64/64 [==============================] - 0s 918us/step - loss: 0.1251 - accuracy: 0.9536 - metric_precision: 0.9701 - metric_recall: 0.9750 - metric_F1score: 0.9722\n",
      "\n",
      " Test F1 Score : 0.9722\n"
     ]
    }
   ],
   "source": [
    "import os\n",
    "from keras.callbacks import ModelCheckpoint, EarlyStopping\n",
    "\n",
    "MODEL_DIR = './model/'\n",
    "if not os.path.exists(MODEL_DIR):\n",
    "    os.mkdir(MODEL_DIR)\n",
    "\n",
    "modelpath = './model/{epoch:02d}-{val_loss:4f}.hdf5'\n",
    "checkpointer = ModelCheckpoint(filepath=modelpath, monitor='val_loss', verbose=1, save_best_only=True)\n",
    "early_stopping_callback = EarlyStopping(monitor='val_loss', patience=10)\n",
    "\n",
    "history = model.fit(x_train, y_train, validation_data=(x_test, y_test), epochs=100,\n",
    "batch_size=32, verbose=0, callbacks=[early_stopping_callback, checkpointer])\n",
    "\n",
    "print('\\n Test F1 Score : %.4f' % (model.evaluate(x_test, y_test)[4]))"
   ]
  },
  {
   "cell_type": "code",
   "execution_count": 129,
   "metadata": {},
   "outputs": [
    {
     "name": "stdout",
     "output_type": "stream",
     "text": [
      "64/64 [==============================] - 0s 2ms/step - loss: 0.1251 - accuracy: 0.9536 - metric_precision: 0.9701 - metric_recall: 0.9750 - metric_F1score: 0.9722\n"
     ]
    },
    {
     "data": {
      "text/plain": [
       "[0.12513606250286102,\n",
       " 0.9536031484603882,\n",
       " 0.9701271057128906,\n",
       " 0.9749970436096191,\n",
       " 0.9721640348434448]"
      ]
     },
     "execution_count": 129,
     "metadata": {},
     "output_type": "execute_result"
    }
   ],
   "source": [
    "a = model.evaluate(x_test, y_test)\n",
    "a"
   ]
  },
  {
   "cell_type": "code",
   "execution_count": 116,
   "metadata": {},
   "outputs": [
    {
     "data": {
      "text/plain": [
       "array([[0.99293   ],\n",
       "       [0.99971277],\n",
       "       [0.9740361 ],\n",
       "       ...,\n",
       "       [0.9979457 ],\n",
       "       [0.90619665],\n",
       "       [0.9939766 ]], dtype=float32)"
      ]
     },
     "execution_count": 116,
     "metadata": {},
     "output_type": "execute_result"
    }
   ],
   "source": [
    "pred = model.predict(x_test)\n",
    "pred"
   ]
  },
  {
   "cell_type": "code",
   "execution_count": 120,
   "metadata": {},
   "outputs": [],
   "source": [
    "pred[pred >= 0.5] = 1\n",
    "pred[pred < 0.5] = 0\n"
   ]
  },
  {
   "cell_type": "code",
   "execution_count": null,
   "metadata": {},
   "outputs": [],
   "source": []
  },
  {
   "cell_type": "code",
   "execution_count": 93,
   "metadata": {},
   "outputs": [
    {
     "data": {
      "image/png": "[encoded data removed]",
      "text/plain": [
       "<Figure size 432x288 with 1 Axes>"
      ]
     },
     "metadata": {
      "needs_background": "light"
     },
     "output_type": "display_data"
    }
   ],
   "source": [
    "# 테스트 셋의 오차\n",
    "y_vloss = history.history['val_loss']\n",
    "\n",
    "# 학습셋의 오차\n",
    "y_loss = history.history[\"loss\"]\n",
    "\n",
    "# 그래프로 표현\n",
    "x_len = np.arange(len(y_loss))\n",
    "plt.plot(x_len, y_vloss, marker=\".\", c=\"red\", label=\"Testset_loss\")\n",
    "plt.plot(x_len, y_loss, marker=\".\", c=\"blue\", label=\"Trainset_loss\")\n",
    "\n",
    "# 그래프에 그리드를 주고 레이블을 표시\n",
    "plt.legend()\n",
    "plt.grid()\n",
    "plt.xlabel(\"epoch\")\n",
    "plt.ylabel(\"loss\")\n",
    "plt.show()"
   ]
  },
  {
   "cell_type": "markdown",
   "metadata": {},
   "source": [
    "------------"
   ]
  },
  {
   "cell_type": "markdown",
   "metadata": {},
   "source": [
    "---------------------"
   ]
  },
  {
   "cell_type": "code",
   "execution_count": 94,
   "metadata": {},
   "outputs": [
    {
     "name": "stdout",
     "output_type": "stream",
     "text": [
      "(8101, 8) (2026, 8) (8101, 2) (2026, 2)\n"
     ]
    }
   ],
   "source": [
    "x_train, x_test, y_train, y_test = train_test_split(input, target, random_state=42, test_size=0.2)\n",
    "\n",
    "y_train= to_categorical(y_train)\n",
    "y_test= to_categorical(y_test)\n",
    "\n",
    "print(x_train.shape, x_test.shape, y_train.shape, y_test.shape)"
   ]
  },
  {
   "cell_type": "code",
   "execution_count": 95,
   "metadata": {},
   "outputs": [
    {
     "name": "stdout",
     "output_type": "stream",
     "text": [
      "Model: \"sequential_23\"\n",
      "_________________________________________________________________\n",
      " Layer (type)                Output Shape              Param #   \n",
      "=================================================================\n",
      " batch_normalization_59 (Bat  (None, 8)                32        \n",
      " chNormalization)                                                \n",
      "                                                                 \n",
      " dense_88 (Dense)            (None, 128)               1152      \n",
      "                                                                 \n",
      " batch_normalization_60 (Bat  (None, 128)              512       \n",
      " chNormalization)                                                \n",
      "                                                                 \n",
      " dense_89 (Dense)            (None, 64)                8256      \n",
      "                                                                 \n",
      " dropout_28 (Dropout)        (None, 64)                0         \n",
      "                                                                 \n",
      " batch_normalization_61 (Bat  (None, 64)               256       \n",
      " chNormalization)                                                \n",
      "                                                                 \n",
      " dense_90 (Dense)            (None, 32)                2080      \n",
      "                                                                 \n",
      " dense_91 (Dense)            (None, 2)                 66        \n",
      "                                                                 \n",
      "=================================================================\n",
      "Total params: 12,354\n",
      "Trainable params: 11,954\n",
      "Non-trainable params: 400\n",
      "_________________________________________________________________\n"
     ]
    }
   ],
   "source": [
    "model = Sequential()\n",
    "\n",
    "model.add(keras.Input(shape=(8,)))\n",
    "\n",
    "model.add(BatchNormalization())\n",
    "model.add(Dense(128, activation='relu'))\n",
    "#model.add(Dropout(0.5))\n",
    "\n",
    "model.add(BatchNormalization())\n",
    "model.add(Dense(64, activation='relu'))\n",
    "model.add(Dropout(0.5))\n",
    "\n",
    "model.add(BatchNormalization())\n",
    "model.add(Dense(32, activation='relu'))\n",
    "#model.add(Dropout(0.5))\n",
    "\n",
    "model.add(Dense(2, activation='sigmoid'))\n",
    "\n",
    "model.compile(optimizer='adam',\n",
    "\t loss='binary_crossentropy',\n",
    "\t metrics=['accuracy',\n",
    "\t \t\tmetric_precision,\n",
    "\t \t\tmetric_recall,\n",
    "\t \t\tmetric_F1score,\n",
    "\t\t\t ])\n",
    "            \n",
    "model.summary()"
   ]
  },
  {
   "cell_type": "code",
   "execution_count": 96,
   "metadata": {},
   "outputs": [
    {
     "name": "stdout",
     "output_type": "stream",
     "text": [
      "\n",
      "Epoch 1: val_loss improved from inf to 0.27284, saving model to ./model\\01-0.272842.hdf5\n",
      "\n",
      "Epoch 2: val_loss improved from 0.27284 to 0.20331, saving model to ./model\\02-0.203308.hdf5\n",
      "\n",
      "Epoch 3: val_loss improved from 0.20331 to 0.18805, saving model to ./model\\03-0.188051.hdf5\n",
      "\n",
      "Epoch 4: val_loss improved from 0.18805 to 0.17803, saving model to ./model\\04-0.178034.hdf5\n",
      "\n",
      "Epoch 5: val_loss improved from 0.17803 to 0.17697, saving model to ./model\\05-0.176970.hdf5\n",
      "\n",
      "Epoch 6: val_loss improved from 0.17697 to 0.17028, saving model to ./model\\06-0.170278.hdf5\n",
      "\n",
      "Epoch 7: val_loss improved from 0.17028 to 0.16889, saving model to ./model\\07-0.168890.hdf5\n",
      "\n",
      "Epoch 8: val_loss improved from 0.16889 to 0.16434, saving model to ./model\\08-0.164341.hdf5\n",
      "\n",
      "Epoch 9: val_loss did not improve from 0.16434\n",
      "\n",
      "Epoch 10: val_loss improved from 0.16434 to 0.15653, saving model to ./model\\10-0.156526.hdf5\n",
      "\n",
      "Epoch 11: val_loss did not improve from 0.15653\n",
      "\n",
      "Epoch 12: val_loss did not improve from 0.15653\n",
      "\n",
      "Epoch 13: val_loss improved from 0.15653 to 0.15128, saving model to ./model\\13-0.151281.hdf5\n",
      "\n",
      "Epoch 14: val_loss did not improve from 0.15128\n",
      "\n",
      "Epoch 15: val_loss improved from 0.15128 to 0.14820, saving model to ./model\\15-0.148197.hdf5\n",
      "\n",
      "Epoch 16: val_loss did not improve from 0.14820\n",
      "\n",
      "Epoch 17: val_loss improved from 0.14820 to 0.14653, saving model to ./model\\17-0.146530.hdf5\n",
      "\n",
      "Epoch 18: val_loss improved from 0.14653 to 0.14453, saving model to ./model\\18-0.144526.hdf5\n",
      "\n",
      "Epoch 19: val_loss did not improve from 0.14453\n",
      "\n",
      "Epoch 20: val_loss improved from 0.14453 to 0.14024, saving model to ./model\\20-0.140239.hdf5\n",
      "\n",
      "Epoch 21: val_loss did not improve from 0.14024\n",
      "\n",
      "Epoch 22: val_loss did not improve from 0.14024\n",
      "\n",
      "Epoch 23: val_loss improved from 0.14024 to 0.13681, saving model to ./model\\23-0.136810.hdf5\n",
      "\n",
      "Epoch 24: val_loss did not improve from 0.13681\n",
      "\n",
      "Epoch 25: val_loss improved from 0.13681 to 0.13421, saving model to ./model\\25-0.134210.hdf5\n",
      "\n",
      "Epoch 26: val_loss did not improve from 0.13421\n",
      "\n",
      "Epoch 27: val_loss did not improve from 0.13421\n",
      "\n",
      "Epoch 28: val_loss improved from 0.13421 to 0.13242, saving model to ./model\\28-0.132423.hdf5\n",
      "\n",
      "Epoch 29: val_loss did not improve from 0.13242\n",
      "\n",
      "Epoch 30: val_loss did not improve from 0.13242\n",
      "\n",
      "Epoch 31: val_loss improved from 0.13242 to 0.13150, saving model to ./model\\31-0.131504.hdf5\n",
      "\n",
      "Epoch 32: val_loss did not improve from 0.13150\n",
      "\n",
      "Epoch 33: val_loss improved from 0.13150 to 0.13072, saving model to ./model\\33-0.130717.hdf5\n",
      "\n",
      "Epoch 34: val_loss improved from 0.13072 to 0.12917, saving model to ./model\\34-0.129168.hdf5\n",
      "\n",
      "Epoch 35: val_loss did not improve from 0.12917\n",
      "\n",
      "Epoch 36: val_loss did not improve from 0.12917\n",
      "\n",
      "Epoch 37: val_loss did not improve from 0.12917\n",
      "\n",
      "Epoch 38: val_loss improved from 0.12917 to 0.12860, saving model to ./model\\38-0.128604.hdf5\n",
      "\n",
      "Epoch 39: val_loss did not improve from 0.12860\n",
      "\n",
      "Epoch 40: val_loss improved from 0.12860 to 0.12781, saving model to ./model\\40-0.127811.hdf5\n",
      "\n",
      "Epoch 41: val_loss improved from 0.12781 to 0.12655, saving model to ./model\\41-0.126553.hdf5\n",
      "\n",
      "Epoch 42: val_loss did not improve from 0.12655\n",
      "\n",
      "Epoch 43: val_loss did not improve from 0.12655\n",
      "\n",
      "Epoch 44: val_loss did not improve from 0.12655\n",
      "\n",
      "Epoch 45: val_loss did not improve from 0.12655\n",
      "\n",
      "Epoch 46: val_loss did not improve from 0.12655\n",
      "\n",
      "Epoch 47: val_loss did not improve from 0.12655\n",
      "\n",
      "Epoch 48: val_loss did not improve from 0.12655\n",
      "\n",
      "Epoch 49: val_loss did not improve from 0.12655\n",
      "\n",
      "Epoch 50: val_loss did not improve from 0.12655\n",
      "\n",
      "Epoch 51: val_loss did not improve from 0.12655\n",
      "64/64 [==============================] - 0s 911us/step - loss: 0.1271 - accuracy: 0.9521 - metric_precision: 0.9527 - metric_recall: 0.9526 - metric_F1score: 0.9527\n",
      "\n",
      " Test F1 Score : 0.9527\n"
     ]
    }
   ],
   "source": [
    "import os\n",
    "from keras.callbacks import ModelCheckpoint, EarlyStopping\n",
    "\n",
    "MODEL_DIR = './model/'\n",
    "if not os.path.exists(MODEL_DIR):\n",
    "    os.mkdir(MODEL_DIR)\n",
    "\n",
    "modelpath = './model/{epoch:02d}-{val_loss:4f}.hdf5'\n",
    "checkpointer = ModelCheckpoint(filepath=modelpath, monitor='val_loss', verbose=1, save_best_only=True)\n",
    "early_stopping_callback = EarlyStopping(monitor='val_loss', patience=10)\n",
    "\n",
    "history = model.fit(x_train, y_train, validation_data=(x_test, y_test), epochs=100,\n",
    "batch_size=32, verbose=0, callbacks=[early_stopping_callback, checkpointer])\n",
    "\n",
    "print('\\n Test F1 Score : %.4f' % (model.evaluate(x_test, y_test)[4]))"
   ]
  },
  {
   "cell_type": "code",
   "execution_count": 97,
   "metadata": {},
   "outputs": [
    {
     "data": {
      "image/png": "[encoded data removed]",
      "text/plain": [
       "<Figure size 432x288 with 1 Axes>"
      ]
     },
     "metadata": {
      "needs_background": "light"
     },
     "output_type": "display_data"
    }
   ],
   "source": [
    "# 테스트 셋의 오차\n",
    "y_vloss = history.history['val_loss']\n",
    "\n",
    "# 학습셋의 오차\n",
    "y_loss = history.history[\"loss\"]\n",
    "\n",
    "# 그래프로 표현\n",
    "x_len = np.arange(len(y_loss))\n",
    "plt.plot(x_len, y_vloss, marker=\".\", c=\"red\", label=\"Testset_loss\")\n",
    "plt.plot(x_len, y_loss, marker=\".\", c=\"blue\", label=\"Trainset_loss\")\n",
    "\n",
    "# 그래프에 그리드를 주고 레이블을 표시\n",
    "plt.legend()\n",
    "plt.grid()\n",
    "plt.xlabel(\"epoch\")\n",
    "plt.ylabel(\"loss\")\n",
    "plt.show()"
   ]
  }
 ],
 "metadata": {
  "interpreter": {
   "hash": "dc0be73154618f58c692376fe46a96bfb7aea1860fce4c5a4dc26143c6655afc"
  },
  "kernelspec": {
   "display_name": "Python 3.10.2 64-bit (system)",
   "language": "python",
   "name": "python3"
  },
  "language_info": {
   "codemirror_mode": {
    "name": "ipython",
    "version": 3
   },
   "file_extension": ".py",
   "mimetype": "text/x-python",
   "name": "python",
   "nbconvert_exporter": "python",
   "pygments_lexer": "ipython3",
   "version": "3.10.2"
  },
  "orig_nbformat": 4
 },
 "nbformat": 4,
 "nbformat_minor": 2
}
